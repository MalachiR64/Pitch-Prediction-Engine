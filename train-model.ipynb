{
 "cells": [
  {
   "cell_type": "markdown",
   "id": "92b71cfb",
   "metadata": {},
   "source": [
    "# Training the model"
   ]
  },
  {
   "cell_type": "markdown",
   "id": "0d1547e8",
   "metadata": {},
   "source": [
    "## 1. Import the Packages"
   ]
  },
  {
   "cell_type": "code",
   "execution_count": 4,
   "id": "d8d21110",
   "metadata": {},
   "outputs": [],
   "source": [
    "#import the packages\n",
    "import statsapi\n",
    "import csv \n",
    "import joblib\n",
    "import pandas as pd\n",
    "import numpy as np\n",
    "import matplotlib.pyplot as plt\n",
    "from xgboost import XGBClassifier\n",
    "from sklearn.preprocessing import LabelEncoder, OneHotEncoder\n",
    "from sklearn.ensemble import RandomForestClassifier\n",
    "from sklearn.model_selection import train_test_split\n",
    "from sklearn.metrics import classification_report, accuracy_score, confusion_matrix, ConfusionMatrixDisplay\n",
    "from apitester import extract_pitch_sequences\n",
    "from apitester import get_historical_mlb_games\n"
   ]
  },
  {
   "cell_type": "markdown",
   "id": "aea81d67",
   "metadata": {},
   "source": [
    "## 2. Create a pitch map which combines simular pitches from the statcast classification for a more cohesive model \n"
   ]
  },
  {
   "cell_type": "code",
   "execution_count": 5,
   "id": "67d074b4",
   "metadata": {},
   "outputs": [],
   "source": [
    "pitch_map = {\n",
    "    'FF': 'Fastball', \n",
    "    'FA': 'Fastball', \n",
    "    'FS': 'Fastball', \n",
    "    'SI': 'Fastball',\n",
    "    'FC': 'Fastball',\n",
    "    'CH': 'Changeup', \n",
    "    'CS': 'Changeup',\n",
    "    'SL': 'Slider',\n",
    "    'SV': 'Slider', \n",
    "    'ST': 'Slider',\n",
    "    'CU': 'Curve', \n",
    "    'KC': 'Curve' ,\n",
    "    'KN': 'Knuckleball',  \n",
    "    'EP': 'Eephus'\n",
    "}\n"
   ]
  },
  {
   "cell_type": "markdown",
   "id": "dbd9f0de",
   "metadata": {},
   "source": [
    "## 3. Grab the pitches for 500 games last year in the 2024 MLB season\n",
    "- Clean the data\n",
    "    - Remove null values \n",
    "    - Remove rare pitches such as Forkballs, Screwballs and Knuckleballs which add noise to the model "
   ]
  },
  {
   "cell_type": "code",
   "execution_count": 6,
   "id": "3c92e97d",
   "metadata": {},
   "outputs": [
    {
     "data": {
      "text/html": [
       "<div>\n",
       "<style scoped>\n",
       "    .dataframe tbody tr th:only-of-type {\n",
       "        vertical-align: middle;\n",
       "    }\n",
       "\n",
       "    .dataframe tbody tr th {\n",
       "        vertical-align: top;\n",
       "    }\n",
       "\n",
       "    .dataframe thead th {\n",
       "        text-align: right;\n",
       "    }\n",
       "</style>\n",
       "<table border=\"1\" class=\"dataframe\">\n",
       "  <thead>\n",
       "    <tr style=\"text-align: right;\">\n",
       "      <th></th>\n",
       "      <th>outs</th>\n",
       "      <th>inning</th>\n",
       "      <th>half_inning</th>\n",
       "      <th>batter_id</th>\n",
       "      <th>pitcher_id</th>\n",
       "      <th>batter_side</th>\n",
       "      <th>pitcher_hand</th>\n",
       "      <th>runners_on_first</th>\n",
       "      <th>runners_on_second</th>\n",
       "      <th>runners_on_third</th>\n",
       "      <th>balls</th>\n",
       "      <th>strikes</th>\n",
       "      <th>pitch_type</th>\n",
       "      <th>home_score</th>\n",
       "      <th>away_score</th>\n",
       "    </tr>\n",
       "  </thead>\n",
       "  <tbody>\n",
       "    <tr>\n",
       "      <th>0</th>\n",
       "      <td>0</td>\n",
       "      <td>1</td>\n",
       "      <td>top</td>\n",
       "      <td>672761</td>\n",
       "      <td>680573</td>\n",
       "      <td>L</td>\n",
       "      <td>R</td>\n",
       "      <td>0</td>\n",
       "      <td>0</td>\n",
       "      <td>0</td>\n",
       "      <td>0</td>\n",
       "      <td>0</td>\n",
       "      <td>Fastball</td>\n",
       "      <td>0</td>\n",
       "      <td>0</td>\n",
       "    </tr>\n",
       "    <tr>\n",
       "      <th>1</th>\n",
       "      <td>0</td>\n",
       "      <td>1</td>\n",
       "      <td>top</td>\n",
       "      <td>672761</td>\n",
       "      <td>680573</td>\n",
       "      <td>L</td>\n",
       "      <td>R</td>\n",
       "      <td>0</td>\n",
       "      <td>0</td>\n",
       "      <td>0</td>\n",
       "      <td>1</td>\n",
       "      <td>0</td>\n",
       "      <td>Fastball</td>\n",
       "      <td>0</td>\n",
       "      <td>0</td>\n",
       "    </tr>\n",
       "    <tr>\n",
       "      <th>2</th>\n",
       "      <td>0</td>\n",
       "      <td>1</td>\n",
       "      <td>top</td>\n",
       "      <td>672761</td>\n",
       "      <td>680573</td>\n",
       "      <td>L</td>\n",
       "      <td>R</td>\n",
       "      <td>0</td>\n",
       "      <td>0</td>\n",
       "      <td>0</td>\n",
       "      <td>2</td>\n",
       "      <td>0</td>\n",
       "      <td>Fastball</td>\n",
       "      <td>0</td>\n",
       "      <td>0</td>\n",
       "    </tr>\n",
       "    <tr>\n",
       "      <th>3</th>\n",
       "      <td>0</td>\n",
       "      <td>1</td>\n",
       "      <td>top</td>\n",
       "      <td>672761</td>\n",
       "      <td>680573</td>\n",
       "      <td>L</td>\n",
       "      <td>R</td>\n",
       "      <td>0</td>\n",
       "      <td>0</td>\n",
       "      <td>0</td>\n",
       "      <td>2</td>\n",
       "      <td>1</td>\n",
       "      <td>Fastball</td>\n",
       "      <td>0</td>\n",
       "      <td>0</td>\n",
       "    </tr>\n",
       "    <tr>\n",
       "      <th>4</th>\n",
       "      <td>0</td>\n",
       "      <td>1</td>\n",
       "      <td>top</td>\n",
       "      <td>672761</td>\n",
       "      <td>680573</td>\n",
       "      <td>L</td>\n",
       "      <td>R</td>\n",
       "      <td>0</td>\n",
       "      <td>0</td>\n",
       "      <td>0</td>\n",
       "      <td>2</td>\n",
       "      <td>2</td>\n",
       "      <td>Changeup</td>\n",
       "      <td>0</td>\n",
       "      <td>0</td>\n",
       "    </tr>\n",
       "    <tr>\n",
       "      <th>...</th>\n",
       "      <td>...</td>\n",
       "      <td>...</td>\n",
       "      <td>...</td>\n",
       "      <td>...</td>\n",
       "      <td>...</td>\n",
       "      <td>...</td>\n",
       "      <td>...</td>\n",
       "      <td>...</td>\n",
       "      <td>...</td>\n",
       "      <td>...</td>\n",
       "      <td>...</td>\n",
       "      <td>...</td>\n",
       "      <td>...</td>\n",
       "      <td>...</td>\n",
       "      <td>...</td>\n",
       "    </tr>\n",
       "    <tr>\n",
       "      <th>139270</th>\n",
       "      <td>2</td>\n",
       "      <td>9</td>\n",
       "      <td>top</td>\n",
       "      <td>628451</td>\n",
       "      <td>608032</td>\n",
       "      <td>R</td>\n",
       "      <td>R</td>\n",
       "      <td>0</td>\n",
       "      <td>0</td>\n",
       "      <td>0</td>\n",
       "      <td>0</td>\n",
       "      <td>0</td>\n",
       "      <td>Slider</td>\n",
       "      <td>5</td>\n",
       "      <td>2</td>\n",
       "    </tr>\n",
       "    <tr>\n",
       "      <th>139271</th>\n",
       "      <td>2</td>\n",
       "      <td>9</td>\n",
       "      <td>top</td>\n",
       "      <td>628451</td>\n",
       "      <td>608032</td>\n",
       "      <td>R</td>\n",
       "      <td>R</td>\n",
       "      <td>0</td>\n",
       "      <td>0</td>\n",
       "      <td>0</td>\n",
       "      <td>0</td>\n",
       "      <td>1</td>\n",
       "      <td>Fastball</td>\n",
       "      <td>5</td>\n",
       "      <td>2</td>\n",
       "    </tr>\n",
       "    <tr>\n",
       "      <th>139272</th>\n",
       "      <td>2</td>\n",
       "      <td>9</td>\n",
       "      <td>top</td>\n",
       "      <td>628451</td>\n",
       "      <td>608032</td>\n",
       "      <td>R</td>\n",
       "      <td>R</td>\n",
       "      <td>0</td>\n",
       "      <td>0</td>\n",
       "      <td>0</td>\n",
       "      <td>1</td>\n",
       "      <td>1</td>\n",
       "      <td>Slider</td>\n",
       "      <td>5</td>\n",
       "      <td>2</td>\n",
       "    </tr>\n",
       "    <tr>\n",
       "      <th>139273</th>\n",
       "      <td>2</td>\n",
       "      <td>9</td>\n",
       "      <td>top</td>\n",
       "      <td>628451</td>\n",
       "      <td>608032</td>\n",
       "      <td>R</td>\n",
       "      <td>R</td>\n",
       "      <td>0</td>\n",
       "      <td>0</td>\n",
       "      <td>0</td>\n",
       "      <td>1</td>\n",
       "      <td>2</td>\n",
       "      <td>Fastball</td>\n",
       "      <td>5</td>\n",
       "      <td>2</td>\n",
       "    </tr>\n",
       "    <tr>\n",
       "      <th>139274</th>\n",
       "      <td>2</td>\n",
       "      <td>9</td>\n",
       "      <td>top</td>\n",
       "      <td>628451</td>\n",
       "      <td>608032</td>\n",
       "      <td>R</td>\n",
       "      <td>R</td>\n",
       "      <td>0</td>\n",
       "      <td>0</td>\n",
       "      <td>0</td>\n",
       "      <td>1</td>\n",
       "      <td>2</td>\n",
       "      <td>Fastball</td>\n",
       "      <td>5</td>\n",
       "      <td>2</td>\n",
       "    </tr>\n",
       "  </tbody>\n",
       "</table>\n",
       "<p>133133 rows × 15 columns</p>\n",
       "</div>"
      ],
      "text/plain": [
       "        outs  inning half_inning  batter_id  pitcher_id batter_side  \\\n",
       "0          0       1         top     672761      680573           L   \n",
       "1          0       1         top     672761      680573           L   \n",
       "2          0       1         top     672761      680573           L   \n",
       "3          0       1         top     672761      680573           L   \n",
       "4          0       1         top     672761      680573           L   \n",
       "...      ...     ...         ...        ...         ...         ...   \n",
       "139270     2       9         top     628451      608032           R   \n",
       "139271     2       9         top     628451      608032           R   \n",
       "139272     2       9         top     628451      608032           R   \n",
       "139273     2       9         top     628451      608032           R   \n",
       "139274     2       9         top     628451      608032           R   \n",
       "\n",
       "       pitcher_hand  runners_on_first  runners_on_second  runners_on_third  \\\n",
       "0                 R                 0                  0                 0   \n",
       "1                 R                 0                  0                 0   \n",
       "2                 R                 0                  0                 0   \n",
       "3                 R                 0                  0                 0   \n",
       "4                 R                 0                  0                 0   \n",
       "...             ...               ...                ...               ...   \n",
       "139270            R                 0                  0                 0   \n",
       "139271            R                 0                  0                 0   \n",
       "139272            R                 0                  0                 0   \n",
       "139273            R                 0                  0                 0   \n",
       "139274            R                 0                  0                 0   \n",
       "\n",
       "        balls  strikes pitch_type  home_score  away_score  \n",
       "0           0        0   Fastball           0           0  \n",
       "1           1        0   Fastball           0           0  \n",
       "2           2        0   Fastball           0           0  \n",
       "3           2        1   Fastball           0           0  \n",
       "4           2        2   Changeup           0           0  \n",
       "...       ...      ...        ...         ...         ...  \n",
       "139270      0        0     Slider           5           2  \n",
       "139271      0        1   Fastball           5           2  \n",
       "139272      1        1     Slider           5           2  \n",
       "139273      1        2   Fastball           5           2  \n",
       "139274      1        2   Fastball           5           2  \n",
       "\n",
       "[133133 rows x 15 columns]"
      ]
     },
     "execution_count": 6,
     "metadata": {},
     "output_type": "execute_result"
    }
   ],
   "source": [
    "historical_games = get_historical_mlb_games(500)\n",
    "historical_game_pitches = []\n",
    "drop_cols = [\n",
    "    'pitch_description', 'pitch_call', 'pitch_result',\n",
    "    'strike_zone_x', 'strike_zone_z',\n",
    "    'batter_name', 'pitcher_name',\n",
    "    'home_team', 'away_team',\n",
    "    'pitch_count', 'velocity', 'spin_rate'\n",
    "]\n",
    "\n",
    "\n",
    "csv_filename = 'hist_pitch_data'\n",
    "for game in historical_games:\n",
    "    game_pk = game['gamePk']\n",
    "    pitch_data = extract_pitch_sequences(game_pk)\n",
    "    historical_game_pitches.extend(pitch_data)\n",
    "pitch_df = pd.DataFrame(historical_game_pitches)\n",
    "pitch_df = pitch_df.drop(columns = drop_cols )\n",
    "pitch_df = pitch_df[pitch_df['pitch_type'].notnull()]\n",
    "pitch_df = pitch_df[~pitch_df['pitch_type'].isin(['FO', 'SC', 'KN'])]\n",
    "pitch_df['pitch_type'] = pitch_df['pitch_type'].map(pitch_map)\n",
    "csv_filename = f\"all_pitch_data.csv\"\n",
    "#pitch_df.to_csv(csv_filename, index=False)\n",
    "pitch_df"
   ]
  },
  {
   "cell_type": "markdown",
   "id": "96c643e4",
   "metadata": {},
   "source": [
    "This is the pitch type distribution from last year "
   ]
  },
  {
   "cell_type": "code",
   "execution_count": 7,
   "id": "e9d687b1",
   "metadata": {},
   "outputs": [
    {
     "name": "stdout",
     "output_type": "stream",
     "text": [
      "pitch_type\n",
      "Fastball    79040\n",
      "Slider      29558\n",
      "Changeup    13480\n",
      "Curve       10927\n",
      "Eephus        128\n",
      "Name: count, dtype: int64\n"
     ]
    }
   ],
   "source": [
    "pitch_counts = pitch_df['pitch_type'].value_counts()\n",
    "print(pitch_counts)"
   ]
  },
  {
   "cell_type": "markdown",
   "id": "cb5c033d",
   "metadata": {},
   "source": [
    "## 4. Enocode the data"
   ]
  },
  {
   "cell_type": "markdown",
   "id": "b9d5da48",
   "metadata": {},
   "source": [
    "`encode_categorical_data`: this function encodes the  categorical variables in the data to either label or one hot encoding   "
   ]
  },
  {
   "cell_type": "code",
   "execution_count": 8,
   "id": "fe76fc22",
   "metadata": {},
   "outputs": [],
   "source": [
    "def encode_categorical_data(df, target_column='pitch_type', method='label_encoding'):\n",
    "    \"\"\"\n",
    "    Encode categorical variables in baseball pitch data for Random Forest model\n",
    "    \n",
    "    Parameters:\n",
    "    df: pandas DataFrame with pitch data\n",
    "    target_column: string, name of target variable column\n",
    "    method: string, either 'label_encoding' or 'one_hot_encoding'\n",
    "    \n",
    "    Returns:\n",
    "    encoded_df: DataFrame with encoded categorical variables\n",
    "    encoders: dict of encoders used (for inverse transformation if needed)\n",
    "    \"\"\"\n",
    "    \n",
    "    # Create a copy to avoid modifying original data\n",
    "    encoded_df = df.copy()\n",
    "    encoders = {}\n",
    "    \n",
    "    # Identify categorical columns\n",
    "    categorical_columns = [\n",
    "        'half_inning',      # 'top' or 'bottom'\n",
    "        'batter_side',      # 'L', 'R', 'S' (Left, Right, Switch)\n",
    "        'pitcher_hand',     # 'L', 'R' (Left, Right)\n",
    "        'pitch_type'        # Various pitch types like 'FF', 'CU', 'SL', etc.\n",
    "    ]\n",
    "    \n",
    "    # Identify ID columns (usually treated as categorical for Random Forest)\n",
    "    id_columns = [\n",
    "        'batter_id',\n",
    "        'pitcher_id'\n",
    "    ]\n",
    "    \n",
    "    if method == 'label_encoding':\n",
    "        # Label encoding for all categorical variables\n",
    "        le = LabelEncoder()\n",
    "        \n",
    "        for col in categorical_columns:\n",
    "            if col in encoded_df.columns:\n",
    "                encoded_df[col] = le.fit_transform(encoded_df[col].astype(str))\n",
    "                encoders[col] = le\n",
    "                print(f\"Label encoded {col}: {dict(zip(le.classes_, le.transform(le.classes_)))}\")\n",
    "        \n",
    "        # For ID columns, we can use label encoding or treat them as categorical\n",
    "        # Since Random Forest can handle high cardinality, we'll use label encoding\n",
    "        for col in id_columns:\n",
    "            if col in encoded_df.columns:\n",
    "                le_id = LabelEncoder()\n",
    "                encoded_df[col] = le_id.fit_transform(encoded_df[col].astype(str))\n",
    "                encoders[col] = le_id\n",
    "                print(f\"Label encoded {col}: {len(le_id.classes_)} unique values\")\n",
    "    \n",
    "    elif method == 'one_hot_encoding':\n",
    "        # One-hot encoding for low cardinality categorical variables\n",
    "        low_cardinality_cols = ['half_inning', 'batter_side', 'pitcher_hand']\n",
    "        \n",
    "        for col in low_cardinality_cols:\n",
    "            if col in encoded_df.columns:\n",
    "                # Create dummy variables\n",
    "                dummies = pd.get_dummies(encoded_df[col], prefix=col)\n",
    "                encoded_df = pd.concat([encoded_df, dummies], axis=1)\n",
    "                encoded_df.drop(col, axis=1, inplace=True)\n",
    "                encoders[col] = list(dummies.columns)\n",
    "                print(f\"One-hot encoded {col}: {list(dummies.columns)}\")\n",
    "        \n",
    "        # For pitch_type (if it's not the target), use label encoding due to potentially high cardinality\n",
    "        if 'pitch_type' in encoded_df.columns and 'pitch_type' != target_column:\n",
    "            le_pitch = LabelEncoder()\n",
    "            encoded_df['pitch_type'] = le_pitch.fit_transform(encoded_df['pitch_type'].astype(str))\n",
    "            encoders['pitch_type'] = le_pitch\n",
    "            print(f\"Label encoded pitch_type: {dict(zip(le_pitch.classes_, le_pitch.transform(le_pitch.classes_)))}\")\n",
    "        \n",
    "        # For ID columns, use label encoding\n",
    "        for col in id_columns:\n",
    "            if col in encoded_df.columns:\n",
    "                le_id = LabelEncoder()\n",
    "                encoded_df[col] = le_id.fit_transform(encoded_df[col].astype(str))\n",
    "                encoders[col] = le_id\n",
    "                print(f\"Label encoded {col}: {len(le_id.classes_)} unique values\")\n",
    "    \n",
    "    return encoded_df, encoders\n",
    "\n",
    "\n"
   ]
  },
  {
   "cell_type": "code",
   "execution_count": 9,
   "id": "83639665",
   "metadata": {},
   "outputs": [
    {
     "name": "stdout",
     "output_type": "stream",
     "text": [
      "One-hot encoded half_inning: ['half_inning_bottom', 'half_inning_top']\n",
      "One-hot encoded batter_side: ['batter_side_L', 'batter_side_R']\n",
      "One-hot encoded pitcher_hand: ['pitcher_hand_L', 'pitcher_hand_R']\n",
      "Label encoded batter_id: 895 unique values\n",
      "Label encoded pitcher_id: 836 unique values\n",
      "Pitch Type Mapping: {'Changeup': np.int64(0), 'Curve': np.int64(1), 'Eephus': np.int64(2), 'Fastball': np.int64(3), 'Slider': np.int64(4)}\n",
      "\n"
     ]
    }
   ],
   "source": [
    "encoded_df_label, encoders_label = encode_categorical_data(pitch_df,method='one_hot_encoding')\n",
    "pitch_type_encoder = LabelEncoder()\n",
    "\n",
    "# encode pitch_type\n",
    "y = pitch_type_encoder.fit_transform(encoded_df_label['pitch_type'])\n",
    "\n",
    "\n",
    "\n",
    "\n",
    "pitch_type_mapping = dict(zip(pitch_type_encoder.classes_, pitch_type_encoder.transform(pitch_type_encoder.classes_)))\n",
    "print(\"Pitch Type Mapping:\", pitch_type_mapping)\n",
    "X = encoded_df_label.drop(columns=['pitch_type'])\n",
    "print()"
   ]
  },
  {
   "cell_type": "markdown",
   "id": "03b3fe4b",
   "metadata": {},
   "source": [
    "## 5. Train the model\n",
    "for the models I used awfdasdf"
   ]
  },
  {
   "cell_type": "markdown",
   "id": "dd8e20a9",
   "metadata": {},
   "source": [
    "### random forest model:\n",
    "We start by training a Random Forest Classifier, which is an ensemble method based on decision trees. It builds multiple decision trees during training and outputs the class that is the mode of the classes of the individual trees.\n",
    "\n",
    "This model is generally robust to overfitting, especially with a large number of features, and can handle both categorical and numerical data well."
   ]
  },
  {
   "cell_type": "markdown",
   "id": "1c716f93",
   "metadata": {},
   "source": [
    "#### Create the model\n",
    "We initialize the Random Forest with default hyperparameters or customized values like:\n",
    "\n",
    "- `n_estimators`: Number of trees in the forest (e.g., 100).\n",
    "- `max_depth`: Maximum depth of each tree to control overfitting.\n",
    "- `random_state`: Ensures reproducibility.\n",
    "\n",
    "The model is trained on the one-hot encoded pitch features and corresponding pitch types as labels.\n",
    "\n"
   ]
  },
  {
   "cell_type": "code",
   "execution_count": 10,
   "id": "b936b392",
   "metadata": {},
   "outputs": [
    {
     "name": "stdout",
     "output_type": "stream",
     "text": [
      "Accuracy: 0.5621361775641266\n",
      "Classes: ['Changeup' 'Curve' 'Eephus' 'Fastball' 'Slider']\n",
      "              precision    recall  f1-score   support\n",
      "\n",
      "    Changeup       0.30      0.15      0.20      2680\n",
      "       Curve       0.28      0.12      0.17      2165\n",
      "      Eephus       0.78      0.58      0.67        24\n",
      "    Fastball       0.62      0.82      0.71     15891\n",
      "      Slider       0.37      0.22      0.28      5867\n",
      "\n",
      "    accuracy                           0.56     26627\n",
      "   macro avg       0.47      0.38      0.40     26627\n",
      "weighted avg       0.51      0.56      0.52     26627\n",
      "\n"
     ]
    }
   ],
   "source": [
    "X_train, X_test, y_train, y_test = train_test_split(X, y, test_size=0.2, random_state=42)\n",
    "\n",
    "# Train the model\n",
    "clf = RandomForestClassifier(n_estimators=100, class_weight='balanced', random_state=42)\n",
    "clf.fit(X_train, y_train)\n",
    "\n",
    "# Predict\n",
    "y_pred = clf.predict(X_test)\n",
    "\n",
    "# Evaluate\n",
    "print(\"Accuracy:\", accuracy_score(y_test, y_pred))\n",
    "print(\"Classes:\", pitch_type_encoder.classes_)\n",
    "labels = pitch_type_encoder.transform(pitch_type_encoder.classes_)\n",
    "print(classification_report(y_test, y_pred, labels=labels, target_names=pitch_type_encoder.classes_))"
   ]
  },
  {
   "cell_type": "markdown",
   "id": "fd597942",
   "metadata": {},
   "source": [
    "#### confustion matrix \n"
   ]
  },
  {
   "cell_type": "code",
   "execution_count": 11,
   "id": "a06e0429",
   "metadata": {},
   "outputs": [
    {
     "data": {
      "image/png": "[encoded data removed]",
      "text/plain": [
       "<Figure size 800x600 with 2 Axes>"
      ]
     },
     "metadata": {},
     "output_type": "display_data"
    }
   ],
   "source": [
    "cm = confusion_matrix(y_test, y_pred, labels=labels)\n",
    "\n",
    "# Display it as a heatmap\n",
    "disp = ConfusionMatrixDisplay(confusion_matrix=cm, display_labels=pitch_type_encoder.classes_)\n",
    "fig, ax = plt.subplots(figsize=(8, 6))  # Adjust size if needed\n",
    "disp.plot(ax=ax, cmap='Blues', xticks_rotation=45)\n",
    "plt.title(\"Confusion Matrix - Pitch Type Classification\")\n",
    "plt.tight_layout()\n",
    "plt.show()"
   ]
  },
  {
   "cell_type": "markdown",
   "id": "c054b5e7",
   "metadata": {},
   "source": [
    "### xgboost Model:\n",
    "Next, we train an `XGBoost Classifier`, a powerful gradient boosting algorithm that often performs better than Random Forests, especially in structured/tabular data.\n",
    "\n",
    "XGBoost uses decision trees like Random Forest but builds them sequentially, with each new tree correcting the errors of the previous ones. It also incorporates regularization, which helps prevent overfitting."
   ]
  },
  {
   "cell_type": "markdown",
   "id": "bc801e75",
   "metadata": {},
   "source": [
    "#### Create the model\n",
    "We define and train the model with common hyperparameters:\n",
    "\n",
    "- `n_estimators`: Total number of trees to build.\n",
    "- `learning_rate`: Controls the contribution of each tree.\n",
    "- `max_depth`: Limits the depth of individual trees to avoid overfitting.\n",
    "- `objective`: Defines the learning task, such as `\"multi:softmax\"` for multiclass classification.\n",
    "\n",
    "The training is done using the same encoded features and pitch labels."
   ]
  },
  {
   "cell_type": "code",
   "execution_count": 12,
   "id": "c32885d8",
   "metadata": {},
   "outputs": [
    {
     "name": "stderr",
     "output_type": "stream",
     "text": [
      "c:\\Users\\Malachi Rosario\\OneDrive\\Desktop\\Programing-Projects\\PitchPredictionEngine\\venv\\Lib\\site-packages\\xgboost\\training.py:183: UserWarning: [12:19:48] WARNING: C:\\actions-runner\\_work\\xgboost\\xgboost\\src\\learner.cc:738: \n",
      "Parameters: { \"use_label_encoder\" } are not used.\n",
      "\n",
      "  bst.update(dtrain, iteration=i, fobj=obj)\n"
     ]
    },
    {
     "name": "stdout",
     "output_type": "stream",
     "text": [
      "Accuracy: 0.6008562737071393\n",
      "Classes: ['Changeup' 'Curve' 'Eephus' 'Fastball' 'Slider']\n",
      "              precision    recall  f1-score   support\n",
      "\n",
      "    Changeup       0.46      0.08      0.13      2680\n",
      "       Curve       0.45      0.04      0.08      2165\n",
      "      Eephus       0.82      0.75      0.78        24\n",
      "    Fastball       0.62      0.93      0.74     15891\n",
      "      Slider       0.46      0.14      0.22      5867\n",
      "\n",
      "    accuracy                           0.60     26627\n",
      "   macro avg       0.56      0.39      0.39     26627\n",
      "weighted avg       0.55      0.60      0.51     26627\n",
      "\n"
     ]
    }
   ],
   "source": [
    "clf = XGBClassifier(\n",
    "    n_estimators=100,\n",
    "    use_label_encoder=False,\n",
    "    eval_metric='mlogloss',\n",
    "    scale_pos_weight=None,  # We'll auto-balance later\n",
    "    random_state=42\n",
    ")\n",
    "\n",
    "clf.fit(X_train, y_train)\n",
    "y_pred = clf.predict(X_test)\n",
    "\n",
    "print(\"Accuracy:\", accuracy_score(y_test, y_pred))\n",
    "print(\"Classes:\", pitch_type_encoder.classes_)\n",
    "print(classification_report(y_test, y_pred, labels=labels, target_names=pitch_type_encoder.classes_, zero_division=0))"
   ]
  },
  {
   "cell_type": "markdown",
   "id": "afddfccf",
   "metadata": {},
   "source": [
    "#### confustion matrix"
   ]
  },
  {
   "cell_type": "code",
   "execution_count": 13,
   "id": "ac83cbca",
   "metadata": {},
   "outputs": [
    {
     "data": {
      "image/png": "[encoded data removed]",
      "text/plain": [
       "<Figure size 800x600 with 2 Axes>"
      ]
     },
     "metadata": {},
     "output_type": "display_data"
    }
   ],
   "source": [
    "cm = confusion_matrix(y_test, y_pred, labels=labels)\n",
    "\n",
    "# Display it as a heatmap\n",
    "disp = ConfusionMatrixDisplay(confusion_matrix=cm, display_labels=pitch_type_encoder.classes_)\n",
    "fig, ax = plt.subplots(figsize=(8, 6))  # Adjust size if needed\n",
    "disp.plot(ax=ax, cmap='Blues', xticks_rotation=45)\n",
    "plt.title(\"Confusion Matrix - Pitch Type Classification\")\n",
    "plt.tight_layout()\n",
    "plt.show()"
   ]
  },
  {
   "cell_type": "markdown",
   "id": "88d99d8a",
   "metadata": {},
   "source": [
    "## 6. choose a model and export it\n",
    "After evaluating both the Random Forest and XGBoost models, I decided to move forward with the XGBoost Classifier for deployment.\n",
    "\n",
    "This decision was based on:\n",
    "\n",
    "- Higher overall accuracy on the validation set.\n",
    "- Better class separation in the confusion matrix, particularly for minority classes like Curve and Slider.\n",
    "- Superior handling of class imbalance, thanks to built-in regularization and boosting.\n",
    "- XGBoost also offers faster inference and more control over model complexity via parameters like `max_depth`, `learning_rate`, and subsample``.\n",
    "\n",
    "The model was trained using the cleaned and one-hot encoded dataset, and then serialized using `joblib` for future predictions."
   ]
  },
  {
   "cell_type": "code",
   "execution_count": 14,
   "id": "a774abef",
   "metadata": {},
   "outputs": [
    {
     "data": {
      "text/plain": [
       "['model_features.joblib']"
      ]
     },
     "execution_count": 14,
     "metadata": {},
     "output_type": "execute_result"
    }
   ],
   "source": [
    "joblib.dump(clf, 'xgb_pitch_model.joblib')\n",
    "joblib.dump(pitch_type_encoder, 'pitch_label_encoder.joblib') \n",
    "joblib.dump(X.columns.tolist(), 'model_features.joblib')"
   ]
  }
 ],
 "metadata": {
  "kernelspec": {
   "display_name": "venv",
   "language": "python",
   "name": "python3"
  },
  "language_info": {
   "codemirror_mode": {
    "name": "ipython",
    "version": 3
   },
   "file_extension": ".py",
   "mimetype": "text/x-python",
   "name": "python",
   "nbconvert_exporter": "python",
   "pygments_lexer": "ipython3",
   "version": "3.11.1"
  }
 },
 "nbformat": 4,
 "nbformat_minor": 5
}
